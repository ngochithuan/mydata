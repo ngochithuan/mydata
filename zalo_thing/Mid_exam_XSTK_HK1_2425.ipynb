{
  "cells": [
    {
      "cell_type": "markdown",
      "id": "cce286c1",
      "metadata": {
        "id": "cce286c1"
      },
      "source": [
        "# MIDTERM ESSAY\n",
        "# Applied Probability and Statistics for Information Technology"
      ]
    },
    {
      "cell_type": "markdown",
      "id": "b14158d0",
      "metadata": {
        "id": "b14158d0"
      },
      "source": [
        "**STUDENT'S NAME:**\n",
        "\n",
        "**STUDENT ID:**\n",
        "\n",
        "**CLASS and GROUP:**\n",
        "\n",
        "Students submit this jupyter notebook presenting your solution and coding. Students giving correct solutions by using Markdown and typing your codes.\n",
        "\n",
        "Save and submit only 1 file as: Student name_StudentID.ipynb (Example: TranVanAn_203456.ipynb)\n",
        "\n",
        "You should solve and submit this report to your theory Google classroom within 14 days, from the beginning of Oct 29th 2024 to the end of Nov 11th 2024. Late submissions are not accepted. Submissions via email are not accepted.\n",
        "\n",
        "This is an individual final report. NOT ALLOWED TO USE GOOGLE, CHATGPT, etc for copying similar solutions and codes. Any case of plagiarism will get 0."
      ]
    },
    {
      "cell_type": "markdown",
      "id": "a664cb93",
      "metadata": {
        "id": "a664cb93"
      },
      "source": [
        "# Question 1: (2 points)\n",
        "A closed urn has 23 balls: 8 white, 6 blue and 9 red."
      ]
    },
    {
      "cell_type": "code",
      "source": [
        "def cross(A, n):\n",
        "    return {a+str(b+1) for a in A for b in range(n)}\n",
        "\n",
        "urn = cross('W', 8) | cross('B', 6) | cross('R', 9)"
      ],
      "metadata": {
        "id": "1Tek23oVj82m"
      },
      "id": "1Tek23oVj82m",
      "execution_count": null,
      "outputs": []
    },
    {
      "cell_type": "markdown",
      "source": [
        "Randomly select ***x*** balls\n",
        "(know that each ball has the same probability of selection).\n",
        "\n",
        "Use two last digits in your Student ID to get value x.\n",
        "\n",
        "For example: Student ID: 0412347 => 47"
      ],
      "metadata": {
        "id": "qoMqhaCnj7vb"
      },
      "id": "qoMqhaCnj7vb"
    },
    {
      "cell_type": "code",
      "source": [
        "def get_x(n):\n",
        "    return int(( n / 99 ) * 4 + 6)\n",
        "\n",
        "x = get_x(47)"
      ],
      "metadata": {
        "id": "9cagGoCThyPE"
      },
      "id": "9cagGoCThyPE",
      "execution_count": null,
      "outputs": []
    },
    {
      "cell_type": "markdown",
      "source": [
        "Find a list of all possible ***x*** balls and assign to variable $U$."
      ],
      "metadata": {
        "id": "OJt9oFHGn4K_"
      },
      "id": "OJt9oFHGn4K_"
    },
    {
      "cell_type": "code",
      "source": [
        "# your code\n",
        "# U ="
      ],
      "metadata": {
        "id": "c2Ep8zUsn8wG"
      },
      "id": "c2Ep8zUsn8wG",
      "execution_count": null,
      "outputs": []
    },
    {
      "cell_type": "markdown",
      "source": [
        "Let *X* represent the random variable corresponding to the number of red balls in ***x*** balls.\n",
        "\n",
        "Let *Y* represent the random variable corresponding to the number of white balls in ***x*** balls.\n",
        "\n",
        "Compute the probability:\n",
        "$P(X=3|Y=1)$ (present the steps along with illustrative code)."
      ],
      "metadata": {
        "id": "lh6Z36t9is-y"
      },
      "id": "lh6Z36t9is-y"
    },
    {
      "cell_type": "code",
      "execution_count": null,
      "id": "a49a15c2",
      "metadata": {
        "id": "a49a15c2"
      },
      "outputs": [],
      "source": [
        "# your code"
      ]
    },
    {
      "cell_type": "markdown",
      "id": "631919a6",
      "metadata": {
        "id": "631919a6"
      },
      "source": [
        "# Question 2: (3 points)\n",
        "\n",
        "Study the statistical functions from the *scipy* library to solve the following questions.\n",
        "\n",
        "**For each question, it is necessary to present the corresponding function, including its prototype, input, output, and the meaning of its parameters.** (1 point)"
      ]
    },
    {
      "cell_type": "markdown",
      "id": "f5f9bf53",
      "metadata": {
        "id": "f5f9bf53"
      },
      "source": [
        "**2.1 (0.5 point):** Consider a random variable that follows normal distribution with mean 6 and variance 12. Calculate:\n",
        "\n",
        "a) $P(X < 2)$\n",
        "\n",
        "b) $P(4 \\leq X \\leq 8)$"
      ]
    },
    {
      "cell_type": "code",
      "execution_count": null,
      "id": "9e46cffa",
      "metadata": {
        "id": "9e46cffa"
      },
      "outputs": [],
      "source": [
        "# your code"
      ]
    },
    {
      "cell_type": "markdown",
      "id": "2fd5513c",
      "metadata": {
        "id": "2fd5513c"
      },
      "source": [
        "**2.2 (0.5 point):** The number of bicycles crossing a bridge during the day follow a Poisson distribution with mean 28. What is the probability that on a randomly selected day 15 bicycles would have crossed the bridge?"
      ]
    },
    {
      "cell_type": "code",
      "source": [
        "# your code"
      ],
      "metadata": {
        "id": "MWGyHPFDGoW2"
      },
      "id": "MWGyHPFDGoW2",
      "execution_count": null,
      "outputs": []
    },
    {
      "cell_type": "markdown",
      "id": "7500001c",
      "metadata": {
        "id": "7500001c"
      },
      "source": [
        "**2.3 (0.5 point):** Suppose that service times at a call center are exponentially distributed with an average call lasting 8 minutes. If there are 3 call center agents serving calls, what is the probability that each person completes his or her work in 10 minutes? Assume that the duration of each call is independent of every other call."
      ]
    },
    {
      "cell_type": "code",
      "execution_count": null,
      "id": "d0f0c4c9",
      "metadata": {
        "id": "d0f0c4c9"
      },
      "outputs": [],
      "source": [
        "# your code"
      ]
    },
    {
      "cell_type": "markdown",
      "id": "d920a8f8",
      "metadata": {
        "id": "d920a8f8"
      },
      "source": [
        "**2.4 (0.5 point):** From the experience, it is seen that 5% of the tyres produced by the machine are defective. Out of the 10 tyres produced, find the probability that at most 4 are defective."
      ]
    },
    {
      "cell_type": "code",
      "execution_count": null,
      "id": "061ac19f",
      "metadata": {
        "id": "061ac19f"
      },
      "outputs": [],
      "source": [
        "# your code"
      ]
    },
    {
      "cell_type": "markdown",
      "id": "e21fed4a",
      "metadata": {
        "id": "e21fed4a"
      },
      "source": [
        "# Question 3: Using Monte Carlo method to estimate π (1.5 points)\n",
        "\n",
        "**Consider a circle C centered at (0,0) with a diameter of 1.** This question asks students to explore how the Monte Carlo method can be used to estimate the value of π through random number generation. Students need to draw illustrations (by code or hand-drawn). (1 point)"
      ]
    },
    {
      "cell_type": "markdown",
      "source": [
        "\n",
        "```\n",
        "# your answer\n",
        "```"
      ],
      "metadata": {
        "id": "sTyP0Wxi-kuI"
      },
      "id": "sTyP0Wxi-kuI"
    },
    {
      "cell_type": "markdown",
      "source": [
        "Now, imagine a square that circumscribes the circle. Randomly select points within the square, and use the Monte Carlo method to estimate the value of π based on the proportion of points that fall inside the circle. Write a simulator function of selecting point n times to estimate the π number. (1 point)"
      ],
      "metadata": {
        "id": "gRRjeF2w8Hjl"
      },
      "id": "gRRjeF2w8Hjl"
    },
    {
      "cell_type": "code",
      "execution_count": null,
      "id": "49ec7262",
      "metadata": {
        "id": "49ec7262"
      },
      "outputs": [],
      "source": [
        "def estimate_pi(n):\n",
        "    pi = 0\n",
        "    # your code\n",
        "    return pi"
      ]
    },
    {
      "cell_type": "markdown",
      "source": [
        "# Question 4: Estimating the population mean from sample mean (2.0 points)\n",
        "\n",
        "Let $\\{X_1, X_2, \\ldots, X_{30}\\}$ be a random sample from the population with an unknown probability density function f(x,θ), where θ∈Θ. We have **equation (1): $E[\\bar{X}]=\\mu$**.\n",
        "\n",
        "```\n",
        "Need to use your STUDENT ID to get the value for the code below. READ COMMENT IN CODE.\n",
        "```"
      ],
      "metadata": {
        "id": "t4R8so8QKDrv"
      },
      "id": "t4R8so8QKDrv"
    },
    {
      "cell_type": "code",
      "source": [
        "import numpy as np\n",
        "\n",
        "# Example: your Student ID 523H0154 => get code: 0154\n",
        "a = 1 # two first digits in our code   => 01\n",
        "b = 54 # two last digits in our code   => 54\n",
        "population_data = list(np.random.normal(a, b, 10000))"
      ],
      "metadata": {
        "id": "dBMZ0cGHLNcf"
      },
      "id": "dBMZ0cGHLNcf",
      "execution_count": null,
      "outputs": []
    },
    {
      "cell_type": "markdown",
      "source": [
        "Let the population consist of 10000 elements, as described above. Please explain each step to demonstrate Equation (1) by selecting a random sample of size 30 from the population's distribution, including illustrative code."
      ],
      "metadata": {
        "id": "07tkplYzMv7n"
      },
      "id": "07tkplYzMv7n"
    },
    {
      "cell_type": "markdown",
      "source": [
        "\n",
        "```\n",
        "# Your answer\n",
        "```"
      ],
      "metadata": {
        "id": "3CpSACZFOh8J"
      },
      "id": "3CpSACZFOh8J"
    },
    {
      "cell_type": "code",
      "source": [
        "# your code"
      ],
      "metadata": {
        "id": "11B2rYLdNs-n"
      },
      "id": "11B2rYLdNs-n",
      "execution_count": null,
      "outputs": []
    },
    {
      "cell_type": "markdown",
      "id": "d25c262d",
      "metadata": {
        "id": "d25c262d"
      },
      "source": [
        "# Question 5: (1.5 points) [Spam email classification]\n",
        "We're now trying to find if emails are spam. Let's say that we have a big data set of 100 emails, and 20 of them are actually spam. So we want to build a classifier. The easiest classifier that we can find is one that says that everything is spam with a 20% probability, because that's all we know so far. So that's a pretty simple classifier. We want to find something more elaborate, and so we're going to look at a feature.\n",
        "\n",
        "We're going to start noticing that the spam emails tend to have words like \"lottery\". So we're going to try to put the word \"lottery\" into our spam detector. We're going to do the following, we're going to see how many emails among the spam ones contain the word “lottery” and we notice that there's 14 of them. Now we're going to look at how many of the emails that are not spam, have the word \"lottery\". So there's 10 of them. So now, what is the probability that an email containing the word \"lottery\" is spam?"
      ]
    },
    {
      "cell_type": "code",
      "execution_count": null,
      "id": "974b4456",
      "metadata": {
        "id": "974b4456"
      },
      "outputs": [],
      "source": [
        "# your code"
      ]
    },
    {
      "cell_type": "markdown",
      "id": "5a88935a",
      "metadata": {
        "id": "5a88935a"
      },
      "source": [
        "# **This is the end of the essay!**"
      ]
    }
  ],
  "metadata": {
    "kernelspec": {
      "display_name": "Python 3",
      "language": "python",
      "name": "python3"
    },
    "language_info": {
      "codemirror_mode": {
        "name": "ipython",
        "version": 3
      },
      "file_extension": ".py",
      "mimetype": "text/x-python",
      "name": "python",
      "nbconvert_exporter": "python",
      "pygments_lexer": "ipython3",
      "version": "3.8.8"
    },
    "colab": {
      "provenance": []
    }
  },
  "nbformat": 4,
  "nbformat_minor": 5
}